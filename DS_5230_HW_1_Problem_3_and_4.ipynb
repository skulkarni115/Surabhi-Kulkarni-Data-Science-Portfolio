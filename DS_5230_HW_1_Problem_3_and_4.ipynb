{
  "nbformat": 4,
  "nbformat_minor": 0,
  "metadata": {
    "colab": {
      "provenance": []
    },
    "kernelspec": {
      "name": "python3",
      "display_name": "Python 3"
    },
    "language_info": {
      "name": "python"
    }
  },
  "cells": [
    {
      "cell_type": "code",
      "execution_count": null,
      "metadata": {
        "id": "Tp-kYi9g4rY5"
      },
      "outputs": [],
      "source": [
        "from keras.datasets import mnist\n",
        "import numpy as np\n",
        "import matplotlib.pyplot as plt\n",
        "import sklearn\n",
        "from scipy import spatial\n",
        "from statistics import mode\n",
        "import sklearn.metrics.pairwise"
      ]
    },
    {
      "cell_type": "code",
      "source": [
        "(train_x,train_y),(test_x, test_y) = mnist.load_data()"
      ],
      "metadata": {
        "id": "u-wKQ7n741Uf",
        "colab": {
          "base_uri": "https://localhost:8080/"
        },
        "outputId": "f69cc834-fd75-4cf5-98af-9fdb6192556a"
      },
      "execution_count": null,
      "outputs": [
        {
          "output_type": "stream",
          "name": "stdout",
          "text": [
            "Downloading data from https://storage.googleapis.com/tensorflow/tf-keras-datasets/mnist.npz\n",
            "11490434/11490434 [==============================] - 0s 0us/step\n"
          ]
        }
      ]
    },
    {
      "cell_type": "code",
      "source": [
        "\n",
        "new_train = []\n",
        "for i in train_x[0:2400]:\n",
        "  new_train.append(i.flatten())\n",
        "\n",
        "\n",
        "new_test = []\n",
        "for i in test_x[0:400]:\n",
        "  new_test.append(i.flatten())\n",
        "\n",
        "#Cosine similarity\n",
        "cos_result = spatial.distance.cdist(new_train, new_train, 'cosine')\n",
        "print(cos_result)\n",
        "\n",
        "#Euclidian Dist\n",
        "Euc_result = spatial.distance.cdist(new_train, new_train)\n",
        "print(Euc_result)\n",
        "\n",
        "#Edit/Hamming Dist\n",
        "edit_result = spatial.distance.cdist(new_train, new_train, 'hamming')\n",
        "print(edit_result)\n",
        "\n",
        "\n",
        "#Jaccard Dist\n",
        "jac_result = spatial.distance.cdist(new_train, new_train, 'jaccard')\n",
        "print(jac_result)\n",
        "\n",
        "#Manhattan Dist\n",
        "man_result = spatial.distance.cdist(new_train, new_train, 'cityblock')\n",
        "print(man_result)"
      ],
      "metadata": {
        "id": "peHAcOoC5O-c",
        "colab": {
          "base_uri": "https://localhost:8080/"
        },
        "outputId": "2176a5b1-d2e7-46d8-c33e-2f42780776c2"
      },
      "execution_count": null,
      "outputs": [
        {
          "output_type": "stream",
          "name": "stdout",
          "text": [
            "[[0.00000000e+00 4.47899811e-01 7.80171516e-01 ... 5.35926952e-01\n",
            "  6.02843449e-01 6.27779492e-01]\n",
            " [4.47899811e-01 0.00000000e+00 7.84290664e-01 ... 3.94284304e-01\n",
            "  6.81558588e-01 6.21483582e-01]\n",
            " [7.80171516e-01 7.84290664e-01 1.11022302e-16 ... 7.24095002e-01\n",
            "  6.19428462e-01 6.43460887e-01]\n",
            " ...\n",
            " [5.35926952e-01 3.94284304e-01 7.24095002e-01 ... 1.11022302e-16\n",
            "  6.21622013e-01 5.31328699e-01]\n",
            " [6.02843449e-01 6.81558588e-01 6.19428462e-01 ... 6.21622013e-01\n",
            "  0.00000000e+00 6.70606515e-01]\n",
            " [6.27779492e-01 6.21483582e-01 6.43460887e-01 ... 5.31328699e-01\n",
            "  6.70606515e-01 0.00000000e+00]]\n",
            "[[   0.         2387.11164381 2773.14911247 ... 2668.67251644\n",
            "  2341.00405809 3059.51646506]\n",
            " [2387.11164381    0.         2898.93290712 ... 2354.09749161\n",
            "  2599.43840089 3117.4394942 ]\n",
            " [2773.14911247 2898.93290712    0.         ... 2866.76001786\n",
            "  2031.46991117 2916.23472992]\n",
            " ...\n",
            " [2668.67251644 2354.09749161 2866.76001786 ...    0.\n",
            "  2579.05583499 2929.89692651]\n",
            " [2341.00405809 2599.43840089 2031.46991117 ... 2579.05583499\n",
            "     0.         2883.26811102]\n",
            " [3059.51646506 3117.4394942  2916.23472992 ... 2929.89692651\n",
            "  2883.26811102    0.        ]]\n",
            "[[0.         0.30102041 0.31377551 ... 0.33163265 0.26785714 0.35204082]\n",
            " [0.30102041 0.         0.32653061 ... 0.30612245 0.29209184 0.36862245]\n",
            " [0.31377551 0.32653061 0.         ... 0.31760204 0.23086735 0.33290816]\n",
            " ...\n",
            " [0.33163265 0.30612245 0.31760204 ... 0.         0.28316327 0.36734694]\n",
            " [0.26785714 0.29209184 0.23086735 ... 0.28316327 0.         0.3252551 ]\n",
            " [0.35204082 0.36862245 0.33290816 ... 0.36734694 0.3252551  0.        ]]\n",
            "[[0.         0.97119342 1.         ... 1.         1.         0.9787234 ]\n",
            " [0.97119342 0.         1.         ... 1.         1.         0.9829932 ]\n",
            " [1.         1.         0.         ... 0.98418972 1.         1.        ]\n",
            " ...\n",
            " [1.         1.         0.98418972 ... 0.         0.9955157  0.99310345]\n",
            " [1.         1.         1.         ... 0.9955157  0.         0.99609375]\n",
            " [0.9787234  0.9829932  1.         ... 0.99310345 0.99609375 0.        ]]\n",
            "[[    0. 29506. 37868. ... 35041. 28534. 43963.]\n",
            " [29506.     0. 41034. ... 29155. 33600. 45765.]\n",
            " [37868. 41034.     0. ... 39697. 23050. 40889.]\n",
            " ...\n",
            " [35041. 29155. 39697. ...     0. 32439. 41018.]\n",
            " [28534. 33600. 23050. ... 32439.     0. 39181.]\n",
            " [43963. 45765. 40889. ... 41018. 39181.     0.]]\n"
          ]
        }
      ]
    },
    {
      "cell_type": "code",
      "source": [
        "#KNN MNIST\n",
        "\n",
        "#Steps\n",
        "#Select values from test x\n",
        "Values = []\n",
        "prediction = {}\n",
        "Accuracy = []\n",
        "k = 20\n",
        "cos_result = sklearn.metrics.pairwise.cosine_similarity(new_test, new_train)\n",
        "#Compare/calculate distance between train_x and test_x\n",
        "for x in range(len(new_test)):\n",
        "  cos_result2 = np.argsort(cos_result[x])[:-21:-1].tolist()\n",
        "\n",
        "  #for i in range(len(new_train)):\n",
        "    #Euclidian Distance\n",
        "    #dist  = np.linalg.norm(new_test[x] - new_train[i])\n",
        "    #dist_list.append(dist)\n",
        "\n",
        "  #indexes = np.argpartition(dist_list, 20)[:20]\n",
        "  labels = []\n",
        "  for i in range(20):\n",
        "    #get all y labels\n",
        "    labels.append(train_y[cos_result2[i]])\n",
        "  most_common = mode(labels)\n",
        "  prediction[x] = most_common\n",
        "\n",
        "  #check work\n",
        "  if test_y[x] == prediction[x]:\n",
        "    Accuracy.append(0)\n",
        "  else:\n",
        "    Accuracy.append(1)\n",
        "    print('Predicted label:', prediction[x], 'Actual Label:', test_y[x])\n",
        "  \n",
        "percent_error = sum(Accuracy)/len(Accuracy)\n",
        "print('Percent Error: ', (percent_error*100), '%')\n"
      ],
      "metadata": {
        "colab": {
          "base_uri": "https://localhost:8080/"
        },
        "id": "R35eIzXqIAe9",
        "outputId": "8ec3aabf-21fb-4cf3-82b3-63f8cf8a899d"
      },
      "execution_count": null,
      "outputs": [
        {
          "output_type": "stream",
          "name": "stdout",
          "text": [
            "Predicted label: 6 Actual Label: 5\n",
            "Predicted label: 0 Actual Label: 4\n",
            "Predicted label: 9 Actual Label: 4\n",
            "Predicted label: 7 Actual Label: 2\n",
            "Predicted label: 9 Actual Label: 7\n",
            "Predicted label: 1 Actual Label: 7\n",
            "Predicted label: 9 Actual Label: 4\n",
            "Predicted label: 8 Actual Label: 2\n",
            "Predicted label: 1 Actual Label: 7\n",
            "Predicted label: 8 Actual Label: 5\n",
            "Predicted label: 5 Actual Label: 6\n",
            "Predicted label: 0 Actual Label: 5\n",
            "Predicted label: 7 Actual Label: 8\n",
            "Predicted label: 8 Actual Label: 9\n",
            "Predicted label: 6 Actual Label: 3\n",
            "Predicted label: 6 Actual Label: 4\n",
            "Predicted label: 9 Actual Label: 4\n",
            "Predicted label: 1 Actual Label: 2\n",
            "Predicted label: 6 Actual Label: 8\n",
            "Predicted label: 0 Actual Label: 6\n",
            "Predicted label: 8 Actual Label: 5\n",
            "Predicted label: 0 Actual Label: 8\n",
            "Predicted label: 3 Actual Label: 8\n",
            "Predicted label: 9 Actual Label: 4\n",
            "Predicted label: 9 Actual Label: 8\n",
            "Predicted label: 1 Actual Label: 4\n",
            "Predicted label: 5 Actual Label: 3\n",
            "Predicted label: 0 Actual Label: 2\n",
            "Predicted label: 1 Actual Label: 9\n",
            "Predicted label: 7 Actual Label: 2\n",
            "Predicted label: 5 Actual Label: 8\n",
            "Predicted label: 4 Actual Label: 6\n",
            "Predicted label: 9 Actual Label: 3\n",
            "Predicted label: 0 Actual Label: 5\n",
            "Predicted label: 4 Actual Label: 7\n",
            "Predicted label: 7 Actual Label: 2\n",
            "Predicted label: 9 Actual Label: 4\n",
            "Predicted label: 7 Actual Label: 3\n",
            "Percent Error:  9.5 %\n"
          ]
        }
      ]
    }
  ]
}