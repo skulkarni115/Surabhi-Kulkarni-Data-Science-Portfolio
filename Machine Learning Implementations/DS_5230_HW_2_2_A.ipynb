{
  "nbformat": 4,
  "nbformat_minor": 0,
  "metadata": {
    "colab": {
      "provenance": []
    },
    "kernelspec": {
      "name": "python3",
      "display_name": "Python 3"
    },
    "language_info": {
      "name": "python"
    }
  },
  "cells": [
    {
      "cell_type": "code",
      "execution_count": null,
      "metadata": {
        "id": "dNlZY3qP5XWV"
      },
      "outputs": [],
      "source": [
        "from keras.datasets import mnist\n",
        "import numpy as np\n",
        "import matplotlib.pyplot as plt\n",
        "import sklearn\n",
        "from scipy import spatial\n",
        "from statistics import mode\n",
        "import sklearn.metrics.pairwise\n",
        "from statistics import mean\n",
        "import random\n",
        "from collections import defaultdict\n",
        "import warnings\n",
        "warnings.filterwarnings(\"ignore\")"
      ]
    },
    {
      "cell_type": "code",
      "source": [
        "(train_x,train_y),(test_x, test_y) = mnist.load_data()\n",
        "new_train = []\n",
        "for i in train_x[0:4000]:\n",
        "  new_train.append(i.flatten())\n",
        "sample_train = new_train[0:]\n",
        "\n",
        "#Purity must be more than .5"
      ],
      "metadata": {
        "id": "b63gbl0E57Kx",
        "colab": {
          "base_uri": "https://localhost:8080/"
        },
        "outputId": "7da65836-2fd5-4ca8-9e04-237e0270dfb7"
      },
      "execution_count": null,
      "outputs": [
        {
          "output_type": "stream",
          "name": "stdout",
          "text": [
            "Downloading data from https://storage.googleapis.com/tensorflow/tf-keras-datasets/mnist.npz\n",
            "11490434/11490434 [==============================] - 0s 0us/step\n"
          ]
        }
      ]
    },
    {
      "cell_type": "code",
      "source": [
        "#K means algorithm\n",
        "k = 10\n",
        "cluster_assignments = defaultdict(list)\n",
        "cluster_idx = defaultdict(list)\n",
        "\n",
        "#Initialization of clusters\n",
        "cluster_index = random.sample(range(0,4000),k)\n",
        "cluster_list = [new_train[i] for i in cluster_index]\n",
        "\n",
        "#Distance matrix\n",
        "Euc_result = sklearn.metrics.pairwise.euclidean_distances(sample_train,cluster_list)\n",
        "for i in range(len(sample_train)):\n",
        "  cluster_num = np.argsort(Euc_result[i])[0]\n",
        "  cluster_assignments[cluster_num].append(sample_train[i])\n",
        "\n",
        "\n",
        "iter = 0\n",
        "while(iter < 200):\n",
        "\n",
        "#M Step\n",
        "  new_assignments = defaultdict(list)\n",
        "  new_cluster_list = np.array([])\n",
        "\n",
        "  for i in range(k):\n",
        "    new_cluster = np.average(cluster_assignments[i], axis = 0)\n",
        "    new_cluster_list = np.append(new_cluster_list, new_cluster)\n",
        "       \n",
        "  new_cluster_list = np.reshape(new_cluster_list,(-1,784))\n",
        "\n",
        "  \n",
        "  if np.array_equal(new_cluster_list,cluster_list):\n",
        "    print('Entering if statement')\n",
        "    break\n",
        "\n",
        "  cluster_list = new_cluster_list\n",
        "  cluster_assignments = defaultdict(list)\n",
        "  cluster_idx = defaultdict(list)\n",
        "\n",
        "\n",
        "#E step\n",
        "  Euc_result = sklearn.metrics.pairwise.euclidean_distances(sample_train,cluster_list)\n",
        "  for i in range(len(sample_train)):\n",
        "    cluster_num = np.argsort(Euc_result[i])[0]\n",
        "    cluster_assignments[cluster_num].append(sample_train[i])\n",
        "    cluster_idx[cluster_num].append(i)\n",
        "  iter +=1\n",
        "#\n",
        "print('num of iterations ', iter)\n",
        "purity = []\n",
        "counted = []\n",
        "count = 0\n",
        "for i in range(len(cluster_idx)):\n",
        "  labels = []\n",
        "  for x in cluster_idx[i]:\n",
        "    label = train_y[x]\n",
        "    labels.append(label)\n",
        "  #print(len(labels))\n",
        "  label_mode = mode(labels)\n",
        "  purity.append(labels.count(label_mode)/len(labels))\n",
        "purity_num = sum(purity)/k\n",
        "print('Average Purity is ', purity_num)\n",
        "\n",
        "# #Gini Index\n",
        "#Per cluster first calculate Gini index =  1- sum((num of points in a label/total points in cluster)^2)\n",
        "gini_index = {}\n",
        "for i in range(len(cluster_idx)):\n",
        "  labels = []\n",
        "  label_dict = {}\n",
        "  for x in cluster_idx[i]:\n",
        "    label = train_y[x]\n",
        "    labels.append(label)\n",
        "\n",
        "    if label not in label_dict:\n",
        "      label_dict[label] = 1\n",
        "    else:\n",
        "      label_dict[label] += 1\n",
        "  label_counts = list(label_dict.values())\n",
        "  gin_sum = 0\n",
        "  for y in range(len(label_dict)):\n",
        "    gin_sum += (label_counts[y]/len(labels))*(label_counts[y]/len(labels))\n",
        "  gini_index[i] = 1-gin_sum\n",
        "#Next do the weighted avg (Gini index*num points in cluster/total points and add)\n",
        "print(gini_index)\n",
        "gini_avg = 0\n",
        "for i in range(len(cluster_idx)):\n",
        "  gini_avg += (gini_index[i]*len(cluster_idx[i])/len(sample_train))\n",
        "print('Avg Gini Index is', gini_avg)\n"
      ],
      "metadata": {
        "colab": {
          "base_uri": "https://localhost:8080/"
        },
        "id": "IHJVBxpm6CFE",
        "outputId": "4f4b639b-d53d-4672-d03c-5e9ec1ab663f"
      },
      "execution_count": null,
      "outputs": [
        {
          "output_type": "stream",
          "name": "stdout",
          "text": [
            "Entering if statement\n",
            "num of iterations  38\n",
            "Average Purity is  0.6374017697444745\n",
            "{0: 0.7002921282227232, 1: 0.4968913546188486, 2: 0.5827335640138409, 3: 0.18241813321452427, 4: 0.10004756242568369, 5: 0.7064512700605804, 6: 0.7445351473922903, 7: 0.15678953626634962, 8: 0.6928061224489797, 9: 0.4986771060028298}\n",
            "Avg Gini Index is 0.5257538629972143\n"
          ]
        }
      ]
    }
  ]
}