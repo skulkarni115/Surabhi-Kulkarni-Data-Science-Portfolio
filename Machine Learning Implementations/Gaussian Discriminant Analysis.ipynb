{
  "nbformat": 4,
  "nbformat_minor": 0,
  "metadata": {
    "colab": {
      "provenance": []
    },
    "kernelspec": {
      "name": "python3",
      "display_name": "Python 3"
    },
    "language_info": {
      "name": "python"
    }
  },
  "cells": [
    {
      "cell_type": "code",
      "execution_count": 1,
      "metadata": {
        "id": "elk49c0SJqKD"
      },
      "outputs": [],
      "source": [
        "import numpy as np\n",
        "import matplotlib.pyplot as plt\n",
        "import sklearn\n",
        "from scipy import spatial\n",
        "from statistics import mode\n",
        "import sklearn.metrics.pairwise\n",
        "from statistics import mean\n",
        "import random\n",
        "from collections import defaultdict\n",
        "from sklearn.mixture import GaussianMixture\n",
        "from scipy.stats import multivariate_normal\n",
        "from sklearn.discriminant_analysis import LinearDiscriminantAnalysis"
      ]
    },
    {
      "cell_type": "code",
      "source": [
        "#Load Dataset\n",
        "with open('spambase.data') as spam_file:\n",
        "  all_lines = spam_file.readlines()\n",
        "\n",
        "total_data = []\n",
        "label = []\n",
        "for line in all_lines:\n",
        "  data_list = line.strip('\\n').split(',')\n",
        "  data_list = [float(i) for i in data_list]\n",
        "  data_label = data_list.pop(-1)\n",
        "  total_data.append(data_list)\n",
        "  label.append(data_label)\n",
        "\n",
        "train_data = total_data[0:4000]\n",
        "test_data = total_data[4000:4061]"
      ],
      "metadata": {
        "id": "6Av1CABCJwtu"
      },
      "execution_count": 2,
      "outputs": []
    },
    {
      "cell_type": "code",
      "source": [
        "#Seperate out by label and train GMM \n",
        "labels_seperated = defaultdict(list)\n",
        "label_seperated = defaultdict(list)\n",
        "seperated_labels = defaultdict(list)\n",
        "iter = 0\n",
        "for i in range(len(train_data)):\n",
        "  iter+=1\n",
        "  tag = label[i]\n",
        "  label_seperated[tag].append(train_data[i])\n",
        "  seperated_labels[tag].append(tag)\n",
        "\n",
        "predict = {}\n",
        "mean = []\n",
        "cov = []\n",
        "model = []\n",
        "iter = 0\n",
        "for i in label_seperated:\n",
        "  iter += 1\n",
        "  X = label_seperated[i]\n",
        "  X = np.array(X)\n",
        "  LABEL = np.array(seperated_labels[i])\n",
        "  LABEL = LABEL.reshape(1,-1)\n",
        "  gm = GaussianMixture(n_components=3, random_state=0).fit(X,LABEL)\n",
        "  model.append(gm)\n",
        "  mean.append(gm.means_.flatten())\n",
        "  cov.append(gm.covariances_.flatten())"
      ],
      "metadata": {
        "id": "-Y1rO7EiNdAz"
      },
      "execution_count": 3,
      "outputs": []
    },
    {
      "cell_type": "code",
      "source": [
        "Label_sample = label[400:4061]\n",
        "new_pred = []\n",
        "new_acc = []\n",
        "prob1 = model[0].predict_proba(test_data)\n",
        "prob2 = model[1].predict_proba(test_data)\n",
        "np.array(prob1)\n",
        "np.array(prob2)\n",
        "sum1 = np.sum(prob1,axis = 0)\n",
        "sum2 = np.sum(prob2, axis = 0)\n",
        "denom = np.add(sum1,sum2)\n",
        "weight1 = sum1 / denom\n",
        "weight2 = sum2/denom\n",
        "for i in range(len(prob1)):\n",
        "  p1 = sum(prob1[i]*weight1)\n",
        "  p2 = sum(prob2[i]*weight2)\n",
        "  if p1 > p2:\n",
        "    new_pred.append(1)\n",
        "  else:\n",
        "    new_pred.append(0)\n",
        "for i in range(len(new_pred)):\n",
        "  if new_pred[i] == Label_sample[i]:\n",
        "    new_acc.append(1)\n",
        "  else:\n",
        "    new_acc.append(0)\n",
        "print('Acc', sum(new_acc)/len(new_acc))"
      ],
      "metadata": {
        "colab": {
          "base_uri": "https://localhost:8080/"
        },
        "id": "kD0mlR9lnQax",
        "outputId": "7f6dd680-d832-427a-a49d-9c9267b7d3dd"
      },
      "execution_count": 4,
      "outputs": [
        {
          "output_type": "stream",
          "name": "stdout",
          "text": [
            "Acc 0.6229508196721312\n"
          ]
        }
      ]
    }
  ]
}