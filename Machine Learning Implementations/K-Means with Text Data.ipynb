{
  "nbformat": 4,
  "nbformat_minor": 0,
  "metadata": {
    "colab": {
      "provenance": []
    },
    "kernelspec": {
      "name": "python3",
      "display_name": "Python 3"
    },
    "language_info": {
      "name": "python"
    }
  },
  "cells": [
    {
      "cell_type": "code",
      "execution_count": null,
      "metadata": {
        "id": "u-fzromjT2VU"
      },
      "outputs": [],
      "source": [
        "from keras.datasets import fashion_mnist\n",
        "import numpy as np\n",
        "import matplotlib.pyplot as plt\n",
        "import sklearn\n",
        "from scipy import spatial\n",
        "from statistics import mode\n",
        "import sklearn.metrics.pairwise\n",
        "from statistics import mean\n",
        "import random\n",
        "from collections import defaultdict\n",
        "import warnings\n",
        "warnings.filterwarnings(\"ignore\")\n",
        "from sklearn.datasets import fetch_20newsgroups\n",
        "from sklearn.feature_extraction.text import TfidfVectorizer\n",
        "from scipy import spatial\n",
        "from scipy.sparse import csr_matrix"
      ]
    },
    {
      "cell_type": "code",
      "source": [
        "cate = ['alt.atheism','comp.graphics', 'misc.forsale','rec.autos','rec.sport.baseball','sci.crypt','sci.space','soc.religion.christian','talk.politics.guns','talk.politics.misc']\n",
        "\n",
        "ng_train = fetch_20newsgroups(subset='train', categories = cate )\n",
        "v = TfidfVectorizer()\n",
        "train_y = ng_train.target\n",
        "train_vector = v.fit_transform(ng_train.data)\n",
        "sample_train = train_vector[:2000]\n",
        "sample_train = csr_matrix.toarray(sample_train)\n",
        "\n",
        "print(len(sample_train[0]))"
      ],
      "metadata": {
        "id": "A7VYy3NzUGEt",
        "colab": {
          "base_uri": "https://localhost:8080/"
        },
        "outputId": "84ff9145-0599-4efb-b3df-49f96873385d"
      },
      "execution_count": null,
      "outputs": [
        {
          "output_type": "stream",
          "name": "stdout",
          "text": [
            "64213\n"
          ]
        }
      ]
    },
    {
      "cell_type": "code",
      "source": [
        "#K means algorithm\n",
        "k = 10\n",
        "cluster_assignments = defaultdict(list)\n",
        "cluster_idx = defaultdict(list)\n",
        "\n",
        "#Initialization of clusters\n",
        "cluster_index = random.sample(range(0,2000),k)\n",
        "cluster_list = [sample_train[i] for i in cluster_index]\n",
        "\n",
        "#Distance matrix\n",
        "Euc_result = sklearn.metrics.pairwise.euclidean_distances(sample_train,cluster_list)\n",
        "for i in range(len(sample_train)):\n",
        "  cluster_num = np.argsort(Euc_result[i])[0]\n",
        "  cluster_assignments[cluster_num].append(sample_train[i])\n",
        "\n",
        "\n",
        "iter = 0\n",
        "while(iter < 100):\n",
        "\n",
        "#M Step\n",
        "  new_assignments = defaultdict(list)\n",
        "  new_cluster_list = np.array([])\n",
        "\n",
        "  for i in range(k):\n",
        "    new_cluster = np.average(cluster_assignments[i], axis = 0)\n",
        "    new_cluster_list = np.append(new_cluster_list, new_cluster)\n",
        "       \n",
        "  new_cluster_list = np.reshape(new_cluster_list,(-1,64213))\n",
        "\n",
        "  \n",
        "  if np.array_equal(new_cluster_list,cluster_list):\n",
        "    print('Entering if statement')\n",
        "    break\n",
        "\n",
        "  cluster_list = new_cluster_list\n",
        "  cluster_assignments = defaultdict(list)\n",
        "  cluster_idx = defaultdict(list)\n",
        "\n",
        "\n",
        "#E step\n",
        "  Euc_result = sklearn.metrics.pairwise.euclidean_distances(sample_train,cluster_list)\n",
        "  for i in range(len(sample_train)):\n",
        "    cluster_num = np.argsort(Euc_result[i])[0]\n",
        "    cluster_assignments[cluster_num].append(sample_train[i])\n",
        "    cluster_idx[cluster_num].append(i)\n",
        "  iter +=1\n",
        "#\n",
        "print('num of iterations ', iter)\n",
        "purity = []\n",
        "counted = []\n",
        "count = 0\n",
        "for i in range(len(cluster_idx)):\n",
        "  labels = []\n",
        "  for x in cluster_idx[i]:\n",
        "    label = train_y[x]\n",
        "    labels.append(label)\n",
        "  #print(len(labels))\n",
        "  label_mode = mode(labels)\n",
        "  purity.append(labels.count(label_mode))\n",
        "purity_num = sum(purity)/len(sample_train)\n",
        "print('Average Purity is ', purity_num)\n",
        "\n",
        "\n",
        "# #Gini Index\n",
        "# #Sum of prob picking cluster k * 1-prob picking cluster k\n",
        "# #Calculate probabilities\n",
        "all_nums = len(sample_train)\n",
        "probs = []\n",
        "for i in range(k):\n",
        "  prob = len(cluster_idx[i])/all_nums\n",
        "  probs.append(prob)\n",
        "gini_index = 0\n",
        "for i in probs:\n",
        "  gini_index = gini_index + (i*(1-i))\n",
        "print('gini index', gini_index)"
      ],
      "metadata": {
        "colab": {
          "base_uri": "https://localhost:8080/"
        },
        "id": "6MD4E6APUNxU",
        "outputId": "49bed828-191e-4922-f688-979a316272e8"
      },
      "execution_count": null,
      "outputs": [
        {
          "output_type": "stream",
          "name": "stdout",
          "text": [
            "Entering if statement\n",
            "num of iterations  13\n",
            "Average Purity is  0.3225\n",
            "gini index 0.7578305\n"
          ]
        }
      ]
    }
  ]
}
